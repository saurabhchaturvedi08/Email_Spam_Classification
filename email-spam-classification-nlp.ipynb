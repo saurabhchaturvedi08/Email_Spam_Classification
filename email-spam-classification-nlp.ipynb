{
 "cells": [
  {
   "cell_type": "markdown",
   "metadata": {},
   "source": [
    "# Email Spam Classification Using NLP"
   ]
  },
  {
   "cell_type": "code",
   "execution_count": 1,
   "metadata": {
    "_cell_guid": "b1076dfc-b9ad-4769-8c92-a6c4dae69d19",
    "_uuid": "8f2839f25d086af736a60e9eeb907d3b93b6e0e5",
    "execution": {
     "iopub.execute_input": "2022-12-04T20:19:30.376492Z",
     "iopub.status.busy": "2022-12-04T20:19:30.376051Z",
     "iopub.status.idle": "2022-12-04T20:19:30.388714Z",
     "shell.execute_reply": "2022-12-04T20:19:30.387392Z",
     "shell.execute_reply.started": "2022-12-04T20:19:30.376443Z"
    }
   },
   "outputs": [],
   "source": [
    "import numpy as np \n",
    "import pandas as pd \n",
    "\n",
    "import seaborn as sns\n",
    "import matplotlib.pyplot as plt\n",
    "%matplotlib inline\n",
    "\n",
    "import warnings\n",
    "warnings.filterwarnings('ignore')"
   ]
  },
  {
   "cell_type": "code",
   "execution_count": 2,
   "metadata": {
    "execution": {
     "iopub.execute_input": "2022-12-04T20:15:59.891617Z",
     "iopub.status.busy": "2022-12-04T20:15:59.891184Z",
     "iopub.status.idle": "2022-12-04T20:16:00.118540Z",
     "shell.execute_reply": "2022-12-04T20:16:00.117372Z",
     "shell.execute_reply.started": "2022-12-04T20:15:59.891579Z"
    }
   },
   "outputs": [],
   "source": [
    "df_email = pd.read_csv(\"emails.csv\")"
   ]
  },
  {
   "cell_type": "code",
   "execution_count": 3,
   "metadata": {
    "execution": {
     "iopub.execute_input": "2022-12-04T20:16:01.155667Z",
     "iopub.status.busy": "2022-12-04T20:16:01.155038Z",
     "iopub.status.idle": "2022-12-04T20:16:01.185199Z",
     "shell.execute_reply": "2022-12-04T20:16:01.184385Z",
     "shell.execute_reply.started": "2022-12-04T20:16:01.155611Z"
    }
   },
   "outputs": [
    {
     "data": {
      "text/html": [
       "<div>\n",
       "<style scoped>\n",
       "    .dataframe tbody tr th:only-of-type {\n",
       "        vertical-align: middle;\n",
       "    }\n",
       "\n",
       "    .dataframe tbody tr th {\n",
       "        vertical-align: top;\n",
       "    }\n",
       "\n",
       "    .dataframe thead th {\n",
       "        text-align: right;\n",
       "    }\n",
       "</style>\n",
       "<table border=\"1\" class=\"dataframe\">\n",
       "  <thead>\n",
       "    <tr style=\"text-align: right;\">\n",
       "      <th></th>\n",
       "      <th>Text</th>\n",
       "      <th>Spam</th>\n",
       "    </tr>\n",
       "  </thead>\n",
       "  <tbody>\n",
       "    <tr>\n",
       "      <th>0</th>\n",
       "      <td>Subject: naturally irresistible your corporate...</td>\n",
       "      <td>1</td>\n",
       "    </tr>\n",
       "    <tr>\n",
       "      <th>1</th>\n",
       "      <td>Subject: the stock trading gunslinger  fanny i...</td>\n",
       "      <td>1</td>\n",
       "    </tr>\n",
       "    <tr>\n",
       "      <th>2</th>\n",
       "      <td>Subject: unbelievable new homes made easy  im ...</td>\n",
       "      <td>1</td>\n",
       "    </tr>\n",
       "    <tr>\n",
       "      <th>3</th>\n",
       "      <td>Subject: 4 color printing special  request add...</td>\n",
       "      <td>1</td>\n",
       "    </tr>\n",
       "    <tr>\n",
       "      <th>4</th>\n",
       "      <td>Subject: do not have money , get software cds ...</td>\n",
       "      <td>1</td>\n",
       "    </tr>\n",
       "  </tbody>\n",
       "</table>\n",
       "</div>"
      ],
      "text/plain": [
       "                                                Text  Spam\n",
       "0  Subject: naturally irresistible your corporate...     1\n",
       "1  Subject: the stock trading gunslinger  fanny i...     1\n",
       "2  Subject: unbelievable new homes made easy  im ...     1\n",
       "3  Subject: 4 color printing special  request add...     1\n",
       "4  Subject: do not have money , get software cds ...     1"
      ]
     },
     "execution_count": 3,
     "metadata": {},
     "output_type": "execute_result"
    }
   ],
   "source": [
    "df_email.head()"
   ]
  },
  {
   "cell_type": "code",
   "execution_count": 4,
   "metadata": {
    "execution": {
     "iopub.execute_input": "2022-12-04T20:16:14.930838Z",
     "iopub.status.busy": "2022-12-04T20:16:14.930382Z",
     "iopub.status.idle": "2022-12-04T20:16:14.939199Z",
     "shell.execute_reply": "2022-12-04T20:16:14.937761Z",
     "shell.execute_reply.started": "2022-12-04T20:16:14.930801Z"
    }
   },
   "outputs": [
    {
     "data": {
      "text/plain": [
       "(5728, 2)"
      ]
     },
     "execution_count": 4,
     "metadata": {},
     "output_type": "execute_result"
    }
   ],
   "source": [
    "df_email.shape"
   ]
  },
  {
   "cell_type": "code",
   "execution_count": 5,
   "metadata": {
    "execution": {
     "iopub.execute_input": "2022-12-04T20:16:27.956508Z",
     "iopub.status.busy": "2022-12-04T20:16:27.956052Z",
     "iopub.status.idle": "2022-12-04T20:16:27.985034Z",
     "shell.execute_reply": "2022-12-04T20:16:27.983670Z",
     "shell.execute_reply.started": "2022-12-04T20:16:27.956449Z"
    }
   },
   "outputs": [
    {
     "name": "stdout",
     "output_type": "stream",
     "text": [
      "<class 'pandas.core.frame.DataFrame'>\n",
      "RangeIndex: 5728 entries, 0 to 5727\n",
      "Data columns (total 2 columns):\n",
      " #   Column  Non-Null Count  Dtype \n",
      "---  ------  --------------  ----- \n",
      " 0   Text    5728 non-null   object\n",
      " 1   Spam    5728 non-null   int64 \n",
      "dtypes: int64(1), object(1)\n",
      "memory usage: 89.6+ KB\n"
     ]
    }
   ],
   "source": [
    "df_email.info()"
   ]
  },
  {
   "cell_type": "code",
   "execution_count": 6,
   "metadata": {
    "execution": {
     "iopub.execute_input": "2022-12-04T20:16:47.411668Z",
     "iopub.status.busy": "2022-12-04T20:16:47.411220Z",
     "iopub.status.idle": "2022-12-04T20:16:47.429454Z",
     "shell.execute_reply": "2022-12-04T20:16:47.428626Z",
     "shell.execute_reply.started": "2022-12-04T20:16:47.411606Z"
    }
   },
   "outputs": [
    {
     "data": {
      "text/html": [
       "<div>\n",
       "<style scoped>\n",
       "    .dataframe tbody tr th:only-of-type {\n",
       "        vertical-align: middle;\n",
       "    }\n",
       "\n",
       "    .dataframe tbody tr th {\n",
       "        vertical-align: top;\n",
       "    }\n",
       "\n",
       "    .dataframe thead th {\n",
       "        text-align: right;\n",
       "    }\n",
       "</style>\n",
       "<table border=\"1\" class=\"dataframe\">\n",
       "  <thead>\n",
       "    <tr style=\"text-align: right;\">\n",
       "      <th></th>\n",
       "      <th>Spam</th>\n",
       "    </tr>\n",
       "  </thead>\n",
       "  <tbody>\n",
       "    <tr>\n",
       "      <th>count</th>\n",
       "      <td>5728.000000</td>\n",
       "    </tr>\n",
       "    <tr>\n",
       "      <th>mean</th>\n",
       "      <td>0.238827</td>\n",
       "    </tr>\n",
       "    <tr>\n",
       "      <th>std</th>\n",
       "      <td>0.426404</td>\n",
       "    </tr>\n",
       "    <tr>\n",
       "      <th>min</th>\n",
       "      <td>0.000000</td>\n",
       "    </tr>\n",
       "    <tr>\n",
       "      <th>25%</th>\n",
       "      <td>0.000000</td>\n",
       "    </tr>\n",
       "    <tr>\n",
       "      <th>50%</th>\n",
       "      <td>0.000000</td>\n",
       "    </tr>\n",
       "    <tr>\n",
       "      <th>75%</th>\n",
       "      <td>0.000000</td>\n",
       "    </tr>\n",
       "    <tr>\n",
       "      <th>max</th>\n",
       "      <td>1.000000</td>\n",
       "    </tr>\n",
       "  </tbody>\n",
       "</table>\n",
       "</div>"
      ],
      "text/plain": [
       "              Spam\n",
       "count  5728.000000\n",
       "mean      0.238827\n",
       "std       0.426404\n",
       "min       0.000000\n",
       "25%       0.000000\n",
       "50%       0.000000\n",
       "75%       0.000000\n",
       "max       1.000000"
      ]
     },
     "execution_count": 6,
     "metadata": {},
     "output_type": "execute_result"
    }
   ],
   "source": [
    "df_email.describe()"
   ]
  },
  {
   "cell_type": "code",
   "execution_count": 7,
   "metadata": {
    "execution": {
     "iopub.execute_input": "2022-12-04T20:16:59.676553Z",
     "iopub.status.busy": "2022-12-04T20:16:59.675974Z",
     "iopub.status.idle": "2022-12-04T20:16:59.687171Z",
     "shell.execute_reply": "2022-12-04T20:16:59.686119Z",
     "shell.execute_reply.started": "2022-12-04T20:16:59.676493Z"
    }
   },
   "outputs": [
    {
     "data": {
      "text/plain": [
       "Text    0\n",
       "Spam    0\n",
       "dtype: int64"
      ]
     },
     "execution_count": 7,
     "metadata": {},
     "output_type": "execute_result"
    }
   ],
   "source": [
    "df_email.isna().sum()"
   ]
  },
  {
   "cell_type": "code",
   "execution_count": 8,
   "metadata": {
    "execution": {
     "iopub.execute_input": "2022-12-04T20:17:21.466374Z",
     "iopub.status.busy": "2022-12-04T20:17:21.465968Z",
     "iopub.status.idle": "2022-12-04T20:17:21.477373Z",
     "shell.execute_reply": "2022-12-04T20:17:21.476009Z",
     "shell.execute_reply.started": "2022-12-04T20:17:21.466342Z"
    }
   },
   "outputs": [
    {
     "data": {
      "text/plain": [
       "array([1, 0], dtype=int64)"
      ]
     },
     "execution_count": 8,
     "metadata": {},
     "output_type": "execute_result"
    }
   ],
   "source": [
    "df_email['Spam'].unique()"
   ]
  },
  {
   "cell_type": "code",
   "execution_count": 9,
   "metadata": {
    "execution": {
     "iopub.execute_input": "2022-12-04T20:17:42.225176Z",
     "iopub.status.busy": "2022-12-04T20:17:42.224744Z",
     "iopub.status.idle": "2022-12-04T20:17:42.233509Z",
     "shell.execute_reply": "2022-12-04T20:17:42.232288Z",
     "shell.execute_reply.started": "2022-12-04T20:17:42.225140Z"
    }
   },
   "outputs": [
    {
     "data": {
      "text/plain": [
       "0    4360\n",
       "1    1368\n",
       "Name: Spam, dtype: int64"
      ]
     },
     "execution_count": 9,
     "metadata": {},
     "output_type": "execute_result"
    }
   ],
   "source": [
    "df_email['Spam'].value_counts()"
   ]
  },
  {
   "cell_type": "code",
   "execution_count": 10,
   "metadata": {
    "execution": {
     "iopub.execute_input": "2022-12-04T20:19:34.725124Z",
     "iopub.status.busy": "2022-12-04T20:19:34.724728Z",
     "iopub.status.idle": "2022-12-04T20:19:34.891403Z",
     "shell.execute_reply": "2022-12-04T20:19:34.890380Z",
     "shell.execute_reply.started": "2022-12-04T20:19:34.725092Z"
    }
   },
   "outputs": [
    {
     "data": {
      "text/plain": [
       "<AxesSubplot:xlabel='Spam', ylabel='count'>"
      ]
     },
     "execution_count": 10,
     "metadata": {},
     "output_type": "execute_result"
    },
    {
     "data": {
      "image/png": "[encoded data removed]",
      "text/plain": [
       "<Figure size 640x480 with 1 Axes>"
      ]
     },
     "metadata": {},
     "output_type": "display_data"
    }
   ],
   "source": [
    "sns.countplot(df_email['Spam'])"
   ]
  },
  {
   "cell_type": "markdown",
   "metadata": {},
   "source": [
    "## Text Preprocessing"
   ]
  },
  {
   "cell_type": "code",
   "execution_count": 11,
   "metadata": {
    "execution": {
     "iopub.execute_input": "2022-12-04T20:22:25.246239Z",
     "iopub.status.busy": "2022-12-04T20:22:25.245837Z",
     "iopub.status.idle": "2022-12-04T20:22:25.894622Z",
     "shell.execute_reply": "2022-12-04T20:22:25.893580Z",
     "shell.execute_reply.started": "2022-12-04T20:22:25.246209Z"
    }
   },
   "outputs": [],
   "source": [
    "import nltk"
   ]
  },
  {
   "cell_type": "markdown",
   "metadata": {},
   "source": [
    "- **Tokenization**"
   ]
  },
  {
   "cell_type": "code",
   "execution_count": 12,
   "metadata": {
    "execution": {
     "iopub.execute_input": "2022-12-04T20:25:18.122580Z",
     "iopub.status.busy": "2022-12-04T20:25:18.122104Z",
     "iopub.status.idle": "2022-12-04T20:25:18.128943Z",
     "shell.execute_reply": "2022-12-04T20:25:18.127969Z",
     "shell.execute_reply.started": "2022-12-04T20:25:18.122535Z"
    }
   },
   "outputs": [],
   "source": [
    "from nltk import word_tokenize\n",
    "\n",
    "def count_words(text):\n",
    "    words = word_tokenize(text)\n",
    "    return len(words)"
   ]
  },
  {
   "cell_type": "code",
   "execution_count": 15,
   "metadata": {
    "execution": {
     "iopub.execute_input": "2022-12-04T20:25:54.405737Z",
     "iopub.status.busy": "2022-12-04T20:25:54.405323Z",
     "iopub.status.idle": "2022-12-04T20:26:07.968641Z",
     "shell.execute_reply": "2022-12-04T20:26:07.967521Z",
     "shell.execute_reply.started": "2022-12-04T20:25:54.405701Z"
    }
   },
   "outputs": [
    {
     "data": {
      "text/html": [
       "<div>\n",
       "<style scoped>\n",
       "    .dataframe tbody tr th:only-of-type {\n",
       "        vertical-align: middle;\n",
       "    }\n",
       "\n",
       "    .dataframe tbody tr th {\n",
       "        vertical-align: top;\n",
       "    }\n",
       "\n",
       "    .dataframe thead th {\n",
       "        text-align: right;\n",
       "    }\n",
       "</style>\n",
       "<table border=\"1\" class=\"dataframe\">\n",
       "  <thead>\n",
       "    <tr style=\"text-align: right;\">\n",
       "      <th></th>\n",
       "      <th>Text</th>\n",
       "      <th>Spam</th>\n",
       "      <th>Count</th>\n",
       "    </tr>\n",
       "  </thead>\n",
       "  <tbody>\n",
       "    <tr>\n",
       "      <th>0</th>\n",
       "      <td>Subject: naturally irresistible your corporate...</td>\n",
       "      <td>1</td>\n",
       "      <td>325</td>\n",
       "    </tr>\n",
       "    <tr>\n",
       "      <th>1</th>\n",
       "      <td>Subject: the stock trading gunslinger  fanny i...</td>\n",
       "      <td>1</td>\n",
       "      <td>90</td>\n",
       "    </tr>\n",
       "    <tr>\n",
       "      <th>2</th>\n",
       "      <td>Subject: unbelievable new homes made easy  im ...</td>\n",
       "      <td>1</td>\n",
       "      <td>88</td>\n",
       "    </tr>\n",
       "    <tr>\n",
       "      <th>3</th>\n",
       "      <td>Subject: 4 color printing special  request add...</td>\n",
       "      <td>1</td>\n",
       "      <td>99</td>\n",
       "    </tr>\n",
       "    <tr>\n",
       "      <th>4</th>\n",
       "      <td>Subject: do not have money , get software cds ...</td>\n",
       "      <td>1</td>\n",
       "      <td>53</td>\n",
       "    </tr>\n",
       "  </tbody>\n",
       "</table>\n",
       "</div>"
      ],
      "text/plain": [
       "                                                Text  Spam  Count\n",
       "0  Subject: naturally irresistible your corporate...     1    325\n",
       "1  Subject: the stock trading gunslinger  fanny i...     1     90\n",
       "2  Subject: unbelievable new homes made easy  im ...     1     88\n",
       "3  Subject: 4 color printing special  request add...     1     99\n",
       "4  Subject: do not have money , get software cds ...     1     53"
      ]
     },
     "execution_count": 15,
     "metadata": {},
     "output_type": "execute_result"
    }
   ],
   "source": [
    "df_email['Count']=df_email['Text'].apply(count_words)\n",
    "df_email.head()"
   ]
  },
  {
   "cell_type": "code",
   "execution_count": 16,
   "metadata": {
    "execution": {
     "iopub.execute_input": "2022-12-04T20:27:02.985409Z",
     "iopub.status.busy": "2022-12-04T20:27:02.985001Z",
     "iopub.status.idle": "2022-12-04T20:27:02.994700Z",
     "shell.execute_reply": "2022-12-04T20:27:02.993414Z",
     "shell.execute_reply.started": "2022-12-04T20:27:02.985376Z"
    }
   },
   "outputs": [
    {
     "data": {
      "text/plain": [
       "0       325\n",
       "1        90\n",
       "2        88\n",
       "3        99\n",
       "4        53\n",
       "       ... \n",
       "5723    298\n",
       "5724    245\n",
       "5725    516\n",
       "5726    277\n",
       "5727    445\n",
       "Name: Count, Length: 5728, dtype: int64"
      ]
     },
     "execution_count": 16,
     "metadata": {},
     "output_type": "execute_result"
    }
   ],
   "source": [
    "df_email['Count']"
   ]
  },
  {
   "cell_type": "code",
   "execution_count": 17,
   "metadata": {
    "execution": {
     "iopub.execute_input": "2022-12-04T20:27:30.346699Z",
     "iopub.status.busy": "2022-12-04T20:27:30.346263Z",
     "iopub.status.idle": "2022-12-04T20:27:30.358586Z",
     "shell.execute_reply": "2022-12-04T20:27:30.357457Z",
     "shell.execute_reply.started": "2022-12-04T20:27:30.346662Z"
    }
   },
   "outputs": [
    {
     "data": {
      "text/plain": [
       "Spam\n",
       "0    346.833028\n",
       "1    267.896199\n",
       "Name: Count, dtype: float64"
      ]
     },
     "execution_count": 17,
     "metadata": {},
     "output_type": "execute_result"
    }
   ],
   "source": [
    "df_email.groupby('Spam')['Count'].mean()"
   ]
  },
  {
   "cell_type": "markdown",
   "metadata": {},
   "source": [
    "- **Removing Punctuations and Stopwords**"
   ]
  },
  {
   "cell_type": "code",
   "execution_count": 18,
   "metadata": {
    "execution": {
     "iopub.execute_input": "2022-12-04T20:29:28.366514Z",
     "iopub.status.busy": "2022-12-04T20:29:28.366108Z",
     "iopub.status.idle": "2022-12-04T20:29:28.372609Z",
     "shell.execute_reply": "2022-12-04T20:29:28.371166Z",
     "shell.execute_reply.started": "2022-12-04T20:29:28.366479Z"
    }
   },
   "outputs": [],
   "source": [
    "import string\n",
    "from nltk.corpus import stopwords"
   ]
  },
  {
   "cell_type": "code",
   "execution_count": 19,
   "metadata": {
    "execution": {
     "iopub.execute_input": "2022-12-04T20:29:46.156496Z",
     "iopub.status.busy": "2022-12-04T20:29:46.156084Z",
     "iopub.status.idle": "2022-12-04T20:29:46.162778Z",
     "shell.execute_reply": "2022-12-04T20:29:46.161719Z",
     "shell.execute_reply.started": "2022-12-04T20:29:46.156451Z"
    }
   },
   "outputs": [],
   "source": [
    "def process_text(text):\n",
    "    no_punc = [char for char in text if char not in string.punctuation]\n",
    "    no_punc = ''.join(no_punc)\n",
    "    \n",
    "    \n",
    "    return ' '.join([word for word in no_punc.split() if word.lower() not in stopwords.words('english')])"
   ]
  },
  {
   "cell_type": "code",
   "execution_count": 22,
   "metadata": {
    "execution": {
     "iopub.execute_input": "2022-12-04T20:30:33.006031Z",
     "iopub.status.busy": "2022-12-04T20:30:33.005616Z",
     "iopub.status.idle": "2022-12-04T20:33:35.944445Z",
     "shell.execute_reply": "2022-12-04T20:33:35.943285Z",
     "shell.execute_reply.started": "2022-12-04T20:30:33.005991Z"
    }
   },
   "outputs": [
    {
     "data": {
      "text/plain": [
       "0       Subject naturally irresistible corporate ident...\n",
       "1       Subject stock trading gunslinger fanny merrill...\n",
       "2       Subject unbelievable new homes made easy im wa...\n",
       "3       Subject 4 color printing special request addit...\n",
       "4       Subject money get software cds software compat...\n",
       "                              ...                        \n",
       "5723    Subject research development charges gpg forwa...\n",
       "5724    Subject receipts visit jim thanks invitation v...\n",
       "5725    Subject enron case study update wow day super ...\n",
       "5726    Subject interest david please call shirley cre...\n",
       "5727    Subject news aurora 5 2 update aurora version ...\n",
       "Name: Text, Length: 5728, dtype: object"
      ]
     },
     "execution_count": 22,
     "metadata": {},
     "output_type": "execute_result"
    }
   ],
   "source": [
    "df_email['Text']=df_email['Text'].apply(process_text)\n",
    "df_email['Text']"
   ]
  },
  {
   "cell_type": "markdown",
   "metadata": {},
   "source": [
    "- **Stemming**"
   ]
  },
  {
   "cell_type": "code",
   "execution_count": 23,
   "metadata": {
    "execution": {
     "iopub.execute_input": "2022-12-04T20:45:28.253580Z",
     "iopub.status.busy": "2022-12-04T20:45:28.253126Z",
     "iopub.status.idle": "2022-12-04T20:45:28.261202Z",
     "shell.execute_reply": "2022-12-04T20:45:28.259873Z",
     "shell.execute_reply.started": "2022-12-04T20:45:28.253543Z"
    }
   },
   "outputs": [],
   "source": [
    "from nltk.stem import PorterStemmer\n",
    "stemmer = PorterStemmer()\n",
    "\n",
    "def stemming (text):\n",
    "    return ''.join([stemmer.stem(word) for word in text])"
   ]
  },
  {
   "cell_type": "code",
   "execution_count": 24,
   "metadata": {
    "execution": {
     "iopub.execute_input": "2022-12-04T20:45:52.511595Z",
     "iopub.status.busy": "2022-12-04T20:45:52.511178Z",
     "iopub.status.idle": "2022-12-04T20:45:57.387372Z",
     "shell.execute_reply": "2022-12-04T20:45:57.386244Z",
     "shell.execute_reply.started": "2022-12-04T20:45:52.511559Z"
    }
   },
   "outputs": [
    {
     "data": {
      "text/html": [
       "<div>\n",
       "<style scoped>\n",
       "    .dataframe tbody tr th:only-of-type {\n",
       "        vertical-align: middle;\n",
       "    }\n",
       "\n",
       "    .dataframe tbody tr th {\n",
       "        vertical-align: top;\n",
       "    }\n",
       "\n",
       "    .dataframe thead th {\n",
       "        text-align: right;\n",
       "    }\n",
       "</style>\n",
       "<table border=\"1\" class=\"dataframe\">\n",
       "  <thead>\n",
       "    <tr style=\"text-align: right;\">\n",
       "      <th></th>\n",
       "      <th>Text</th>\n",
       "      <th>Spam</th>\n",
       "      <th>Count</th>\n",
       "    </tr>\n",
       "  </thead>\n",
       "  <tbody>\n",
       "    <tr>\n",
       "      <th>0</th>\n",
       "      <td>subject naturally irresistible corporate ident...</td>\n",
       "      <td>1</td>\n",
       "      <td>325</td>\n",
       "    </tr>\n",
       "    <tr>\n",
       "      <th>1</th>\n",
       "      <td>subject stock trading gunslinger fanny merrill...</td>\n",
       "      <td>1</td>\n",
       "      <td>90</td>\n",
       "    </tr>\n",
       "    <tr>\n",
       "      <th>2</th>\n",
       "      <td>subject unbelievable new homes made easy im wa...</td>\n",
       "      <td>1</td>\n",
       "      <td>88</td>\n",
       "    </tr>\n",
       "    <tr>\n",
       "      <th>3</th>\n",
       "      <td>subject 4 color printing special request addit...</td>\n",
       "      <td>1</td>\n",
       "      <td>99</td>\n",
       "    </tr>\n",
       "    <tr>\n",
       "      <th>4</th>\n",
       "      <td>subject money get software cds software compat...</td>\n",
       "      <td>1</td>\n",
       "      <td>53</td>\n",
       "    </tr>\n",
       "  </tbody>\n",
       "</table>\n",
       "</div>"
      ],
      "text/plain": [
       "                                                Text  Spam  Count\n",
       "0  subject naturally irresistible corporate ident...     1    325\n",
       "1  subject stock trading gunslinger fanny merrill...     1     90\n",
       "2  subject unbelievable new homes made easy im wa...     1     88\n",
       "3  subject 4 color printing special request addit...     1     99\n",
       "4  subject money get software cds software compat...     1     53"
      ]
     },
     "execution_count": 24,
     "metadata": {},
     "output_type": "execute_result"
    }
   ],
   "source": [
    "df_email['Text']=df_email['Text'].apply(stemming)\n",
    "df_email.head()"
   ]
  },
  {
   "cell_type": "markdown",
   "metadata": {},
   "source": [
    "- **Bag of Words Model**"
   ]
  },
  {
   "cell_type": "code",
   "execution_count": 25,
   "metadata": {
    "execution": {
     "iopub.execute_input": "2022-12-04T20:50:35.556853Z",
     "iopub.status.busy": "2022-12-04T20:50:35.556460Z",
     "iopub.status.idle": "2022-12-04T20:50:36.579863Z",
     "shell.execute_reply": "2022-12-04T20:50:36.578890Z",
     "shell.execute_reply.started": "2022-12-04T20:50:35.556821Z"
    }
   },
   "outputs": [],
   "source": [
    "from sklearn.feature_extraction.text import CountVectorizer\n",
    "vectorizer= CountVectorizer()\n",
    "message_bow = vectorizer.fit_transform(df_email['Text'])"
   ]
  },
  {
   "cell_type": "code",
   "execution_count": 26,
   "metadata": {
    "execution": {
     "iopub.execute_input": "2022-12-04T20:53:07.541766Z",
     "iopub.status.busy": "2022-12-04T20:53:07.541351Z",
     "iopub.status.idle": "2022-12-04T20:53:08.353200Z",
     "shell.execute_reply": "2022-12-04T20:53:08.352089Z",
     "shell.execute_reply.started": "2022-12-04T20:53:07.541731Z"
    }
   },
   "outputs": [
    {
     "data": {
      "text/plain": [
       "array([[0, 0, 0, ..., 0, 0, 0],\n",
       "       [0, 0, 0, ..., 0, 0, 0],\n",
       "       [0, 0, 0, ..., 0, 0, 0],\n",
       "       ...,\n",
       "       [4, 0, 0, ..., 0, 0, 0],\n",
       "       [0, 0, 0, ..., 0, 0, 0],\n",
       "       [0, 0, 0, ..., 0, 0, 0]], dtype=int64)"
      ]
     },
     "execution_count": 26,
     "metadata": {},
     "output_type": "execute_result"
    }
   ],
   "source": [
    "#vectorizer.get_feature_names()\n",
    "message_bow.toarray()"
   ]
  },
  {
   "cell_type": "markdown",
   "metadata": {},
   "source": [
    "#### Splitting the data into train and test data"
   ]
  },
  {
   "cell_type": "code",
   "execution_count": 27,
   "metadata": {
    "execution": {
     "iopub.execute_input": "2022-12-04T20:55:37.362369Z",
     "iopub.status.busy": "2022-12-04T20:55:37.361961Z",
     "iopub.status.idle": "2022-12-04T20:55:37.372941Z",
     "shell.execute_reply": "2022-12-04T20:55:37.371798Z",
     "shell.execute_reply.started": "2022-12-04T20:55:37.362338Z"
    }
   },
   "outputs": [],
   "source": [
    "from sklearn.model_selection import train_test_split\n",
    "X_train,X_test,y_train,y_test = train_test_split(message_bow,df_email['Spam'],test_size=0.30)"
   ]
  },
  {
   "cell_type": "code",
   "execution_count": 28,
   "metadata": {
    "execution": {
     "iopub.execute_input": "2022-12-04T20:56:06.121482Z",
     "iopub.status.busy": "2022-12-04T20:56:06.121077Z",
     "iopub.status.idle": "2022-12-04T20:56:06.129444Z",
     "shell.execute_reply": "2022-12-04T20:56:06.128614Z",
     "shell.execute_reply.started": "2022-12-04T20:56:06.121433Z"
    }
   },
   "outputs": [
    {
     "data": {
      "text/plain": [
       "(4009, 37187)"
      ]
     },
     "execution_count": 28,
     "metadata": {},
     "output_type": "execute_result"
    }
   ],
   "source": [
    "X_train.shape"
   ]
  },
  {
   "cell_type": "code",
   "execution_count": 29,
   "metadata": {
    "execution": {
     "iopub.execute_input": "2022-12-04T20:56:18.406947Z",
     "iopub.status.busy": "2022-12-04T20:56:18.406393Z",
     "iopub.status.idle": "2022-12-04T20:56:18.415627Z",
     "shell.execute_reply": "2022-12-04T20:56:18.414365Z",
     "shell.execute_reply.started": "2022-12-04T20:56:18.406895Z"
    }
   },
   "outputs": [
    {
     "data": {
      "text/plain": [
       "(1719, 37187)"
      ]
     },
     "execution_count": 29,
     "metadata": {},
     "output_type": "execute_result"
    }
   ],
   "source": [
    "X_test.shape"
   ]
  },
  {
   "cell_type": "markdown",
   "metadata": {},
   "source": [
    "## SVM Classifier"
   ]
  },
  {
   "cell_type": "code",
   "execution_count": 30,
   "metadata": {
    "execution": {
     "iopub.execute_input": "2022-12-04T20:56:54.062409Z",
     "iopub.status.busy": "2022-12-04T20:56:54.062016Z",
     "iopub.status.idle": "2022-12-04T20:56:59.382449Z",
     "shell.execute_reply": "2022-12-04T20:56:59.381365Z",
     "shell.execute_reply.started": "2022-12-04T20:56:54.062378Z"
    }
   },
   "outputs": [
    {
     "data": {
      "text/plain": [
       "SVC()"
      ]
     },
     "execution_count": 30,
     "metadata": {},
     "output_type": "execute_result"
    }
   ],
   "source": [
    "from sklearn.svm import SVC\n",
    "svm = SVC()\n",
    "svm.fit(X_train,y_train)"
   ]
  },
  {
   "cell_type": "code",
   "execution_count": 31,
   "metadata": {
    "execution": {
     "iopub.execute_input": "2022-12-04T20:57:08.741326Z",
     "iopub.status.busy": "2022-12-04T20:57:08.740949Z",
     "iopub.status.idle": "2022-12-04T20:57:10.835488Z",
     "shell.execute_reply": "2022-12-04T20:57:10.834321Z",
     "shell.execute_reply.started": "2022-12-04T20:57:08.741295Z"
    }
   },
   "outputs": [],
   "source": [
    "y_pred = svm.predict(X_test)"
   ]
  },
  {
   "cell_type": "code",
   "execution_count": 32,
   "metadata": {
    "execution": {
     "iopub.execute_input": "2022-12-04T20:57:19.222269Z",
     "iopub.status.busy": "2022-12-04T20:57:19.221826Z",
     "iopub.status.idle": "2022-12-04T20:57:19.235432Z",
     "shell.execute_reply": "2022-12-04T20:57:19.234547Z",
     "shell.execute_reply.started": "2022-12-04T20:57:19.222234Z"
    }
   },
   "outputs": [
    {
     "name": "stdout",
     "output_type": "stream",
     "text": [
      "              precision    recall  f1-score   support\n",
      "\n",
      "           0       0.96      1.00      0.98      1269\n",
      "           1       0.99      0.89      0.94       450\n",
      "\n",
      "    accuracy                           0.97      1719\n",
      "   macro avg       0.98      0.94      0.96      1719\n",
      "weighted avg       0.97      0.97      0.97      1719\n",
      "\n"
     ]
    }
   ],
   "source": [
    "from sklearn.metrics import classification_report\n",
    "print(classification_report(y_test,y_pred))"
   ]
  },
  {
   "cell_type": "code",
   "execution_count": 33,
   "metadata": {
    "execution": {
     "iopub.execute_input": "2022-12-04T20:57:31.082311Z",
     "iopub.status.busy": "2022-12-04T20:57:31.081905Z",
     "iopub.status.idle": "2022-12-04T20:57:33.384923Z",
     "shell.execute_reply": "2022-12-04T20:57:33.383661Z",
     "shell.execute_reply.started": "2022-12-04T20:57:31.082279Z"
    }
   },
   "outputs": [
    {
     "data": {
      "text/plain": [
       "<sklearn.metrics._plot.roc_curve.RocCurveDisplay at 0x1805c15ac10>"
      ]
     },
     "execution_count": 33,
     "metadata": {},
     "output_type": "execute_result"
    },
    {
     "data": {
      "image/png": "[encoded data removed]",
      "text/plain": [
       "<Figure size 640x480 with 1 Axes>"
      ]
     },
     "metadata": {},
     "output_type": "display_data"
    }
   ],
   "source": [
    "from sklearn.metrics import plot_roc_curve\n",
    "plot_roc_curve(svm,X_test,y_test)"
   ]
  },
  {
   "cell_type": "code",
   "execution_count": 34,
   "metadata": {
    "execution": {
     "iopub.execute_input": "2022-12-04T20:57:48.242984Z",
     "iopub.status.busy": "2022-12-04T20:57:48.242573Z",
     "iopub.status.idle": "2022-12-04T20:57:50.522870Z",
     "shell.execute_reply": "2022-12-04T20:57:50.521649Z",
     "shell.execute_reply.started": "2022-12-04T20:57:48.242953Z"
    }
   },
   "outputs": [
    {
     "data": {
      "text/plain": [
       "<sklearn.metrics._plot.confusion_matrix.ConfusionMatrixDisplay at 0x18056b8d610>"
      ]
     },
     "execution_count": 34,
     "metadata": {},
     "output_type": "execute_result"
    },
    {
     "data": {
      "image/png": "[encoded data removed]",
      "text/plain": [
       "<Figure size 640x480 with 2 Axes>"
      ]
     },
     "metadata": {},
     "output_type": "display_data"
    }
   ],
   "source": [
    "from sklearn.metrics import plot_confusion_matrix\n",
    "plot_confusion_matrix(svm,X_test,y_test)"
   ]
  },
  {
   "cell_type": "markdown",
   "metadata": {},
   "source": [
    "- Here, Out of 1719 test data 42 are misclassified. Accuracy of the model is 98%."
   ]
  },
  {
   "cell_type": "markdown",
   "metadata": {},
   "source": [
    "- **Accuracy using Cross Validation**"
   ]
  },
  {
   "cell_type": "code",
   "execution_count": 35,
   "metadata": {
    "execution": {
     "iopub.execute_input": "2022-12-04T21:00:10.276660Z",
     "iopub.status.busy": "2022-12-04T21:00:10.276209Z",
     "iopub.status.idle": "2022-12-04T21:00:50.055881Z",
     "shell.execute_reply": "2022-12-04T21:00:50.053856Z",
     "shell.execute_reply.started": "2022-12-04T21:00:10.276592Z"
    }
   },
   "outputs": [
    {
     "name": "stdout",
     "output_type": "stream",
     "text": [
      "Accuracy using Cross Validation is : 97.85256483534909  %\n"
     ]
    }
   ],
   "source": [
    "from sklearn.model_selection import KFold, cross_val_score\n",
    "kfold = KFold(n_splits=5,shuffle=True)\n",
    "print(\"Accuracy using Cross Validation is :\",np.mean(cross_val_score(svm,message_bow,df_email['Spam'],cv=kfold,scoring=\"accuracy\"))*100,\" %\")"
   ]
  },
  {
   "cell_type": "markdown",
   "metadata": {},
   "source": [
    "## NaiveBayesMultinomial Classifier"
   ]
  },
  {
   "cell_type": "code",
   "execution_count": 36,
   "metadata": {
    "execution": {
     "iopub.execute_input": "2022-12-04T21:01:53.542530Z",
     "iopub.status.busy": "2022-12-04T21:01:53.542083Z",
     "iopub.status.idle": "2022-12-04T21:01:53.558885Z",
     "shell.execute_reply": "2022-12-04T21:01:53.557538Z",
     "shell.execute_reply.started": "2022-12-04T21:01:53.542488Z"
    }
   },
   "outputs": [
    {
     "data": {
      "text/plain": [
       "MultinomialNB()"
      ]
     },
     "execution_count": 36,
     "metadata": {},
     "output_type": "execute_result"
    }
   ],
   "source": [
    "from sklearn.naive_bayes import MultinomialNB\n",
    "nb= MultinomialNB()\n",
    "nb.fit(X_train,y_train)"
   ]
  },
  {
   "cell_type": "code",
   "execution_count": 37,
   "metadata": {
    "execution": {
     "iopub.execute_input": "2022-12-04T21:02:02.862991Z",
     "iopub.status.busy": "2022-12-04T21:02:02.862555Z",
     "iopub.status.idle": "2022-12-04T21:02:02.870108Z",
     "shell.execute_reply": "2022-12-04T21:02:02.868925Z",
     "shell.execute_reply.started": "2022-12-04T21:02:02.862952Z"
    }
   },
   "outputs": [],
   "source": [
    "y_pred = nb.predict(X_test)"
   ]
  },
  {
   "cell_type": "code",
   "execution_count": 38,
   "metadata": {
    "execution": {
     "iopub.execute_input": "2022-12-04T21:02:12.401270Z",
     "iopub.status.busy": "2022-12-04T21:02:12.400866Z",
     "iopub.status.idle": "2022-12-04T21:02:12.416660Z",
     "shell.execute_reply": "2022-12-04T21:02:12.415531Z",
     "shell.execute_reply.started": "2022-12-04T21:02:12.401236Z"
    }
   },
   "outputs": [
    {
     "name": "stdout",
     "output_type": "stream",
     "text": [
      "              precision    recall  f1-score   support\n",
      "\n",
      "           0       1.00      0.99      0.99      1269\n",
      "           1       0.97      1.00      0.98       450\n",
      "\n",
      "    accuracy                           0.99      1719\n",
      "   macro avg       0.98      0.99      0.99      1719\n",
      "weighted avg       0.99      0.99      0.99      1719\n",
      "\n"
     ]
    }
   ],
   "source": [
    "from sklearn.metrics import classification_report\n",
    "print(classification_report(y_test,y_pred))"
   ]
  },
  {
   "cell_type": "code",
   "execution_count": 39,
   "metadata": {
    "execution": {
     "iopub.execute_input": "2022-12-04T21:02:22.642407Z",
     "iopub.status.busy": "2022-12-04T21:02:22.641614Z",
     "iopub.status.idle": "2022-12-04T21:02:22.875749Z",
     "shell.execute_reply": "2022-12-04T21:02:22.874535Z",
     "shell.execute_reply.started": "2022-12-04T21:02:22.642370Z"
    }
   },
   "outputs": [
    {
     "data": {
      "text/plain": [
       "<sklearn.metrics._plot.roc_curve.RocCurveDisplay at 0x1805e857f40>"
      ]
     },
     "execution_count": 39,
     "metadata": {},
     "output_type": "execute_result"
    },
    {
     "data": {
      "image/png": "[encoded data removed]",
      "text/plain": [
       "<Figure size 640x480 with 1 Axes>"
      ]
     },
     "metadata": {},
     "output_type": "display_data"
    }
   ],
   "source": [
    "from sklearn.metrics import plot_roc_curve\n",
    "plot_roc_curve(nb,X_test,y_test)"
   ]
  },
  {
   "cell_type": "code",
   "execution_count": 40,
   "metadata": {
    "execution": {
     "iopub.execute_input": "2022-12-04T21:02:34.387273Z",
     "iopub.status.busy": "2022-12-04T21:02:34.386854Z",
     "iopub.status.idle": "2022-12-04T21:02:34.639904Z",
     "shell.execute_reply": "2022-12-04T21:02:34.638713Z",
     "shell.execute_reply.started": "2022-12-04T21:02:34.387238Z"
    }
   },
   "outputs": [
    {
     "data": {
      "text/plain": [
       "<sklearn.metrics._plot.confusion_matrix.ConfusionMatrixDisplay at 0x18060a092e0>"
      ]
     },
     "execution_count": 40,
     "metadata": {},
     "output_type": "execute_result"
    },
    {
     "data": {
      "image/png": "[encoded data removed]",
      "text/plain": [
       "<Figure size 640x480 with 2 Axes>"
      ]
     },
     "metadata": {},
     "output_type": "display_data"
    }
   ],
   "source": [
    "from sklearn.metrics import plot_confusion_matrix\n",
    "plot_confusion_matrix(nb,X_test,y_test)"
   ]
  },
  {
   "cell_type": "markdown",
   "metadata": {},
   "source": [
    "- Here, Out of 1719 test data 17 are misclassified. Accuracy of the model is 99%."
   ]
  },
  {
   "cell_type": "markdown",
   "metadata": {},
   "source": [
    "- **Accuracy using Cross Validation**"
   ]
  },
  {
   "cell_type": "code",
   "execution_count": 41,
   "metadata": {
    "execution": {
     "iopub.execute_input": "2022-12-04T21:06:55.412345Z",
     "iopub.status.busy": "2022-12-04T21:06:55.411945Z",
     "iopub.status.idle": "2022-12-04T21:06:55.473581Z",
     "shell.execute_reply": "2022-12-04T21:06:55.472454Z",
     "shell.execute_reply.started": "2022-12-04T21:06:55.412301Z"
    }
   },
   "outputs": [
    {
     "name": "stdout",
     "output_type": "stream",
     "text": [
      "Accuracy using Cross Validation is : 99.0222913189602  %\n"
     ]
    }
   ],
   "source": [
    "from sklearn.model_selection import KFold, cross_val_score\n",
    "kfold = KFold(n_splits=5,shuffle=True)\n",
    "print(\"Accuracy using Cross Validation is :\",np.mean(cross_val_score(nb,message_bow,df_email['Spam'],cv=kfold,scoring=\"accuracy\"))*100,\" %\")"
   ]
  },
  {
   "cell_type": "code",
   "execution_count": null,
   "metadata": {},
   "outputs": [],
   "source": []
  },
  {
   "cell_type": "code",
   "execution_count": null,
   "metadata": {},
   "outputs": [],
   "source": []
  }
 ],
 "metadata": {
  "kernelspec": {
   "display_name": "Python 3 (ipykernel)",
   "language": "python",
   "name": "python3"
  },
  "language_info": {
   "codemirror_mode": {
    "name": "ipython",
    "version": 3
   },
   "file_extension": ".py",
   "mimetype": "text/x-python",
   "name": "python",
   "nbconvert_exporter": "python",
   "pygments_lexer": "ipython3",
   "version": "3.9.13"
  }
 },
 "nbformat": 4,
 "nbformat_minor": 4
}
